{
 "cells": [
  {
   "cell_type": "code",
   "execution_count": 1,
   "metadata": {},
   "outputs": [
    {
     "name": "stdout",
     "output_type": "stream",
     "text": [
      "Original String: what we think we become; we are Python programmer\n",
      "Substring to find: we\n",
      "\"we\" found at indexes: \n",
      "5\n",
      "14\n",
      "25\n"
     ]
    }
   ],
   "source": [
    "#Day 4 Assignment No. 1: Find all occurrence of substring in the given string\n",
    "#“what we think we become; we are Python programmer”. Print the index values\n",
    "\n",
    "str1 = \"what we think we become; we are Python programmer\"\n",
    "ss = \"we\"\n",
    "\n",
    "print(\"Original String: \" + str1)\n",
    "print(\"Substring to find: \" + ss)\n",
    "\n",
    "print(\"\\\"we\\\" found at indexes: \")\n",
    "for i in range(len(str1)):\n",
    "    if str1.startswith(ss, i):\n",
    "        ind = i\n",
    "        print(ind)"
   ]
  },
  {
   "cell_type": "code",
   "execution_count": 2,
   "metadata": {},
   "outputs": [
    {
     "name": "stdout",
     "output_type": "stream",
     "text": [
      "True\n",
      "False\n",
      "False\n",
      "False\n",
      "True\n",
      "False\n"
     ]
    }
   ],
   "source": [
    "#Day 4 Assignment No. 2: Explain using islower(), isupper() using different strings\n",
    "\n",
    "str1 = \"mayuri\"\n",
    "str2 = \"MAYURI\"\n",
    "str3 = \"Mayuri\"\n",
    "\n",
    "#using islower()\n",
    "print(str1.islower())\n",
    "print(str2.islower())\n",
    "print(str3.islower())\n",
    "\n",
    "#using isupper()\n",
    "print(str1.isupper())\n",
    "print(str2.isupper())\n",
    "print(str3.isupper())"
   ]
  },
  {
   "cell_type": "code",
   "execution_count": null,
   "metadata": {},
   "outputs": [],
   "source": []
  }
 ],
 "metadata": {
  "kernelspec": {
   "display_name": "Python 3",
   "language": "python",
   "name": "python3"
  },
  "language_info": {
   "codemirror_mode": {
    "name": "ipython",
    "version": 3
   },
   "file_extension": ".py",
   "mimetype": "text/x-python",
   "name": "python",
   "nbconvert_exporter": "python",
   "pygments_lexer": "ipython3",
   "version": "3.7.6"
  }
 },
 "nbformat": 4,
 "nbformat_minor": 4
}
